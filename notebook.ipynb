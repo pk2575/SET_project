{
 "cells": [
  {
   "cell_type": "code",
   "execution_count": null,
   "metadata": {},
   "outputs": [],
   "source": [
    "from bs4 import BeautifulSoup\n",
    "import requests\n",
    "\n",
    "source = requests.post(f\"http://www.nepalstock.com/indices\")\n",
    "soup = BeautifulSoup(source.text, \"lxml\")\n"
   ]
  },
  {
   "cell_type": "code",
   "execution_count": null,
   "metadata": {},
   "outputs": [],
   "source": [
    "table = soup.find(id =\"index\")\n",
    "contents =table.find_all(\"option\")\n",
    "print(contents)"
   ]
  },
  {
   "cell_type": "code",
   "execution_count": null,
   "metadata": {},
   "outputs": [],
   "source": [
    "code_list = []\n",
    "index_list = []\n",
    "for entry in contents:\n",
    "    entry =str(entry)\n",
    "    entry = (entry.replace('<option value=\"','').replace('\"','').replace(\"</option>\",\"\").split(\">\"))\n",
    "    entry.reverse()\n",
    "    code_list.append(entry)\n",
    "    index_list.append(entry[0])\n",
    "index_dict = dict(code_list)\n",
    "print(index_dict)\n",
    "print(\"\\n\")\n",
    "print(index_list)\n",
    "#printindex_dict)"
   ]
  },
  {
   "cell_type": "code",
   "execution_count": null,
   "metadata": {},
   "outputs": [],
   "source": [
    "#for x in index_list:\n",
    "index = index_dict[\"Banking\"]\n",
    "print(index)\n",
    "web = requests.post(\"http://www.nepalstock.com/indices\",data={\"index\": index })\n",
    "soup = BeautifulSoup(web.text, \"lxml\")\n",
    "print(soup)\n",
    "\n",
    "\n",
    "\n",
    "\n"
   ]
  },
  {
   "cell_type": "code",
   "execution_count": null,
   "metadata": {},
   "outputs": [],
   "source": [
    "group_list = []\n",
    "data = []\n",
    "\n",
    "group_list = soup.find_all(\"tr\") # finding rows\n",
    "for table in group_list[1:-1]:   #first  table and last one are not required\n",
    "    for item in table.find_all(\"td\"): # finding cell \n",
    "        data.append(item.text.strip()) \n",
    "    print(data)\n",
    "    sn = data[0]\n",
    "    date = data[1]\n",
    "    index = data[2]\n",
    "    abs_change = data[3]\n",
    "    per_change = data[4]\n",
    "    print(sn)\n",
    "    print(date)\n",
    "    print(index)\n",
    "    print(abs_change)\n",
    "    print(per_change)\n",
    "    data= []\n",
    "\n",
    "\n",
    "    "
   ]
  },
  {
   "cell_type": "code",
   "execution_count": 93,
   "metadata": {},
   "outputs": [],
   "source": [
    "\n",
    "\n"
   ]
  }
 ],
 "metadata": {
  "interpreter": {
   "hash": "b48afa69a509d83b5753f2d3498032d9c7e0ed918dea24ec016978aac887a179"
  },
  "kernelspec": {
   "display_name": "Python 3.9.7 64-bit ('data_science': conda)",
   "language": "python",
   "name": "python3"
  },
  "language_info": {
   "codemirror_mode": {
    "name": "ipython",
    "version": 3
   },
   "file_extension": ".py",
   "mimetype": "text/x-python",
   "name": "python",
   "nbconvert_exporter": "python",
   "pygments_lexer": "ipython3",
   "version": "3.9.7"
  },
  "orig_nbformat": 4
 },
 "nbformat": 4,
 "nbformat_minor": 2
}
